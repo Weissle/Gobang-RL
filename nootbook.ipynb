{
 "cells": [
  {
   "cell_type": "code",
   "execution_count": null,
   "metadata": {},
   "outputs": [],
   "source": [
    "import torch\n",
    "import torch.utils.data as Data\n",
    "from rule.GobangBase import * \n",
    "import RL.RLNet as RL\n",
    "import RL.DataCreate as DC\n",
    "import RL.DataLoader as DL\n",
    "import time\n",
    "import torch.nn as nn\n",
    "from torchsummary import summary"
   ]
  },
  {
   "cell_type": "code",
   "execution_count": null,
   "metadata": {},
   "outputs": [],
   "source": [
    "# net = RL.RLNet()\n",
    "#print(net)\n",
    "train_times = 500\n",
    "lr = 0.01\n",
    "epochs_num = 10\n",
    "dataCreator = DC.DataCreator()\n",
    "optim = torch.optim.Adam(net.parameters(),lr=lr)\n",
    "device = torch.device('cuda' if torch.cuda.is_available() else 'cpu')"
   ]
  },
  {
   "cell_type": "code",
   "execution_count": null,
   "metadata": {},
   "outputs": [],
   "source": [
    "def train(net,data_iterator,iswin,optim,device,num_epochs):\n",
    "    net = net.to(device)\n",
    "    print(\"train on \",device)\n",
    "    loss = torch.nn.CrossEntropyLoss()\n",
    "\n",
    "    for epoch in range(num_epochs):\n",
    "        \n",
    "        for X,y in data_iterator:\n",
    "            X = X.to(device)\n",
    "            y = y.to(device)\n",
    "            label = torch.zeros((len(y)),device=device,dtype=torch.long)\n",
    "            for i in range(len(y)):\n",
    "                label[i] = int(y[i][0]*15 + y[i][1])\n",
    "            y_hat = net(X)\n",
    "            l = loss(y_hat,label)\n",
    "            optim.zero_grad()\n",
    "            l.backward()\n",
    "            optim.step()"
   ]
  },
  {
   "cell_type": "code",
   "execution_count": null,
   "metadata": {},
   "outputs": [],
   "source": [
    "start = time.time()\n",
    "for i in range(train_times):\n",
    "    gobang = GobangForAI(15,15)\n",
    "    while gobang.gameover() == False:\n",
    "        player = gobang.who_should_place()\n",
    "        board = None\n",
    "        if player == \"Black\":\n",
    "            board = torch.from_numpy(gobang.board_)\n",
    "        else:\n",
    "            board = torch.from_numpy(gobang.board_white_)\n",
    "        x,y = RL.test(net,board,device)\n",
    "        gobang.place(x,y)\n",
    "    if gobang.winner == \"None\":\n",
    "        continue   \n",
    "    winner_board,winner_place,_, _ = dataCreator.create(gobang)\n",
    "    winner_loader = DL.getDataLoader(winner_board,winner_place)\n",
    "    train(net,winner_loader,True,optim,device,epochs_num)\n",
    "print(time.time()-start)"
   ]
  },
  {
   "cell_type": "code",
   "execution_count": null,
   "metadata": {},
   "outputs": [],
   "source": [
    "# winner_board,winner_place,loser_board, loser_place = dataCreator.create(gobang)\n",
    "# print(winner_board.shape,winner_place.shape)\n",
    "# winner_loader = DL.getDataLoader(winner_board,winner_place)\n",
    "# loser_loader = DL.getDataLoader(loser_board,loser_place)"
   ]
  },
  {
   "cell_type": "code",
   "execution_count": null,
   "metadata": {},
   "outputs": [],
   "source": [
    "gobang = GobangForAI(15,15)\n",
    "while gobang.gameover() == False:\n",
    "    player = gobang.who_should_place()\n",
    "    board = None\n",
    "    if player == \"Black\":\n",
    "        board = torch.from_numpy(gobang.board_)\n",
    "    else:\n",
    "        board = torch.from_numpy(gobang.board_white_)\n",
    "    x,y = RL.test(net,board,device)\n",
    "    gobang.place(x,y)\n",
    "    print(x,y)\n",
    "    print(gobang.board_)\n",
    "    a = input()\n",
    "print(gobang.winner()+\" win \")\n",
    "print(gobang.board_)\n",
    "print(x,y)"
   ]
  },
  {
   "cell_type": "code",
   "execution_count": null,
   "metadata": {},
   "outputs": [],
   "source": []
  },
  {
   "cell_type": "code",
   "execution_count": null,
   "metadata": {},
   "outputs": [],
   "source": []
  }
 ],
 "metadata": {
  "kernelspec": {
   "display_name": "Python 3",
   "language": "python",
   "name": "python3"
  },
  "language_info": {
   "codemirror_mode": {
    "name": "ipython",
    "version": 3
   },
   "file_extension": ".py",
   "mimetype": "text/x-python",
   "name": "python",
   "nbconvert_exporter": "python",
   "pygments_lexer": "ipython3",
   "version": "3.8.5"
  }
 },
 "nbformat": 4,
 "nbformat_minor": 4
}
